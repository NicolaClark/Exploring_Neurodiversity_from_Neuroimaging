{
 "cells": [
  {
   "cell_type": "markdown",
   "metadata": {},
   "source": [
    "# Setup and Initialisation of Energy Landscape graph"
   ]
  },
  {
   "cell_type": "code",
   "execution_count": null,
   "metadata": {},
   "outputs": [],
   "source": [
    "#data handling\n",
    "import networkx as nx\n",
    "import pandas as pd\n",
    "import numpy as np\n",
    "\n",
    "#other maths\n",
    "import random\n",
    "from collections import Counter\n",
    "import math\n",
    "\n",
    "#plotting\n",
    "import matplotlib.pyplot as plt\n",
    "from sklearn.manifold import TSNE\n",
    "import matplotlib.cm as cm\n",
    "import seaborn as sns\n",
    "\n"
   ]
  },
  {
   "cell_type": "code",
   "execution_count": null,
   "metadata": {},
   "outputs": [],
   "source": [
    "# initialise a hypercube graph\n",
    "g = nx.hypercube_graph(7)\n",
    "\n",
    "\n",
    "# ADD ACTIVATION STATE DATA\n",
    "# read in the activation states, such that energy values from the matlab code output can be correctly assigned to each activation state\n",
    "activation_states = pd.read_csv(\"activation_states.csv\", delimiter= \"\\t\",header=None)\n",
    "activation_states[activation_states==-1]=0 #aestetic change of binarisation for easier visual inspection\n",
    "\n",
    "# states to dictionary\n",
    "as_dict = pd.DataFrame.to_dict(activation_states,orient = \"list\")\n",
    "\n",
    "# reverse dictionary such that (key:value) == (nx node name: ID in MAtlab data)\n",
    "as_dict_correct = dict()\n",
    "for key in as_dict.keys():\n",
    "    #print(tuple(as_dict[key]))\n",
    "    as_dict_correct[tuple(as_dict[key])]=key\n",
    "\n",
    "# add ELA_ID values to the graph\n",
    "nx.set_node_attributes(g, as_dict_correct, name=\"ELA_ID\")\n",
    "\n",
    "# example of ELA_ID retrieval\n",
    "g.nodes[(0,1,0,0,0,1,0)][\"ELA_ID\"]\n",
    "\n",
    "# ADD ENERGY VALUE DATA\n",
    "# Read values to dict\n",
    "EVk = pd.read_csv(\"EVk.csv\", delimiter= \"\\t\",header=None)\n",
    "EVk_dict = pd.DataFrame.to_dict(EVk)[0]\n",
    "\n",
    "# add EVk to relevant nodes\n",
    "for node in g.nodes:\n",
    "    ELA_key = g.nodes[node][\"ELA_ID\"]\n",
    "    g.nodes[node][\"EVk\"] = EVk_dict[ELA_key]\n",
    "    # set all to local minimum as default\n",
    "    g.nodes[node][\"local_minimum\"] = True\n"
   ]
  },
  {
   "cell_type": "markdown",
   "metadata": {},
   "source": [
    "# Calculation of Local Minima"
   ]
  },
  {
   "cell_type": "code",
   "execution_count": null,
   "metadata": {},
   "outputs": [],
   "source": [
    "for node in g.nodes:\n",
    "    node_EVk = g.nodes[node][\"EVk\"]\n",
    "    for nay in nx.neighbors(g,node):\n",
    "        nay_EVk = g.nodes[nay][\"EVk\"]\n",
    "        if nay_EVk<=node_EVk:\n",
    "            # if any neighbour has a higher energy value the node is not a local minimum\n",
    "            g.nodes[node][\"local_minimum\"] = False\n",
    "        if nay_EVk==node_EVk:\n",
    "            # to catch when two energy values are the same, as this is not expected behavior \n",
    "            print(\"EQUAL!\")\n",
    "\n",
    "#our local minima\n",
    "min_df = pd.DataFrame(g.nodes(\"local_minimum\"))\n",
    "min_df = min_df[min_df[1]==True][0]\n",
    "min_ids = [g.nodes[i]['ELA_ID'] for i in min_df]\n",
    "print (\"Local Minima activation states: \\n\",min_df)\n",
    "print (\"\\n Local Minima ELA IDS: \\n\",min_ids)\n",
    "\n",
    "\n",
    "# example node\n",
    "print(\"\\n nodes now look like this:\", g.nodes[(0,0,0,0,1,1,1)])"
   ]
  },
  {
   "cell_type": "markdown",
   "metadata": {},
   "source": [
    "# Disconnectivity graphs\n"
   ]
  },
  {
   "cell_type": "markdown",
   "metadata": {},
   "source": [
    "## calculation of disconnectivity graph"
   ]
  },
  {
   "cell_type": "code",
   "execution_count": null,
   "metadata": {},
   "outputs": [],
   "source": [
    "# initialise connected matrix, describing energy values at which local minima disconnect, if all nodes over that energy value are removed \n",
    "# initialised with -9999\n",
    "connected_matrix = pd.DataFrame(-9999,index=min_ids, columns=min_ids,dtype=float)\n",
    "\n",
    "#EVK sorted\n",
    "EVk_removal_list = sorted(list(EVk_dict.values()))\n",
    "connected = 999\n",
    "#copy of graph to change\n",
    "g_dis = g.copy()\n",
    "prev_connected = 1000\n",
    "all_stages_g = []\n",
    "stages_g = [] \n",
    "while connected > 0:\n",
    "    connected = 0\n",
    "    # pop largest\n",
    "    largest_EVk = EVk_removal_list.pop()\n",
    "    selected = [x for x,y in g_dis.nodes(data=True) if y['EVk']==largest_EVk]\n",
    "    # remove largest\n",
    "    for n in selected:\n",
    "        g_dis.remove_node(n)\n",
    "    all_stages_g.append(g_dis.copy())\n",
    "    #check connected\n",
    "    for i in min_ids:\n",
    "        for j in min_ids:\n",
    "            if i==j:\n",
    "                pass\n",
    "            else:\n",
    "                i_node = [x for x,y in g_dis.nodes(data=True) if y[\"ELA_ID\"]==i][0]\n",
    "                j_node = [x for x,y in g_dis.nodes(data=True) if y[\"ELA_ID\"]==j][0]\n",
    "                # check connected\n",
    "                path_exists =  nx.has_path(g_dis,i_node,j_node)\n",
    "\n",
    "                if path_exists:\n",
    "                    connected+=1\n",
    "                else:\n",
    "                    # if not already changed then change ev value to max of matrix and EKV\n",
    "                    if connected_matrix[i][j] <= -9999:\n",
    "                    # store info\n",
    "                        connected_matrix[i][j] = largest_EVk\n",
    "                        connected_matrix[j][i] = largest_EVk\n",
    "    if prev_connected != connected:\n",
    "        # print(\"connections between minima: \", int(connected/2), \"   number of connected components in graph: \", nx.number_connected_components(g_dis))\n",
    "        stages_g.append(g_dis.copy())\n",
    "\n",
    "    prev_connected = connected\n",
    "\n",
    "print(\"The matrix after computing at which EVk, the  minima disconnect \\n\")\n",
    "connected_matrix\n",
    "# the graph, at different stages is saved in the stages_g list "
   ]
  },
  {
   "cell_type": "markdown",
   "metadata": {},
   "source": [
    "## plotting setup"
   ]
  },
  {
   "cell_type": "code",
   "execution_count": null,
   "metadata": {},
   "outputs": [],
   "source": [
    "#g is used here to normalise globally across all graphs, such that positions and colours are consitant\n",
    "#init positions for graphs\n",
    "\n",
    "tsne = TSNE(n_components=2, random_state=42, init=\"pca\",learning_rate=\"auto\" ,perplexity=30)\n",
    "tsne_positions = tsne.fit_transform(np.array(g.nodes))\n",
    "\n",
    "iterations = 30\n",
    "for steps in range (iterations):\n",
    "    tsne_positions[:,1] = [g.nodes[i][\"EVk\"] for i in g.nodes()]\n",
    "    tsne = TSNE(n_components=2, random_state=42,learning_rate=\"auto\" ,perplexity=7+iterations-steps,init = tsne_positions)\n",
    "    tsne_positions = tsne.fit_transform(np.array(g.nodes))\n",
    "    tsne_positions[:,1] = [g.nodes[i][\"EVk\"] for i in g.nodes()]\n",
    "\n",
    "positions = {}\n",
    "for idx, node in enumerate(g.nodes):\n",
    "    # Assign 2D position from PCA result\n",
    "    positions[node] = (tsne_positions[idx, 0],tsne_positions[idx, 1]*3)\n",
    "x_min,x_max = min([pos[0] for pos in positions.values()]),max([pos[0] for pos in positions.values()])\n",
    "y_min,y_max = min([pos[1] for pos in positions.values()]),max([pos[1] for pos in positions.values()])\n",
    "\n",
    "\n",
    "# init node colours for graphs\n",
    "all_evk_values = nx.get_node_attributes(g, \"EVk\").values()\n",
    "\n",
    "# Normalize EVk values\n",
    "min_evk = min(all_evk_values)\n",
    "max_evk = max(all_evk_values)\n",
    "norm_colour = plt.Normalize(vmin=min_evk, vmax=max_evk+2)\n",
    "colormap = cm.hot\n"
   ]
  },
  {
   "cell_type": "code",
   "execution_count": null,
   "metadata": {},
   "outputs": [],
   "source": [
    "#plot\n",
    "g_dis_draw = stages_g[0]\n",
    "print(nx.number_connected_components(g_dis_draw))\n",
    "fig = plt.figure(1, figsize=(10, 10))\n",
    "plt.xlim(x_min-1,x_max+1)\n",
    "plt.ylim(y_min-1,y_max)\n",
    "node_colours = [colormap(norm_colour(i)) for i in nx.get_node_attributes(g_dis_draw, \"EVk\").values()]\n",
    "node_sizes = [i*300+200 for i in nx.get_node_attributes(g_dis_draw, \"local_minimum\").values()]\n",
    "nx.draw_networkx(g_dis_draw,with_labels=False,node_color = node_colours, node_size = 50 ,alpha = 0.9,width = 0.3,pos=positions)\n"
   ]
  },
  {
   "cell_type": "code",
   "execution_count": null,
   "metadata": {},
   "outputs": [],
   "source": [
    "\n",
    "#graphs = all_stages_g[0:len(all_stages_g):10] # plot every 10th stage\n",
    "#graphs = all_stages_g #plot all stages\n",
    "graphs = stages_g # plot stages where new components appear\n",
    "\n",
    "num_graphs = len(graphs)\n",
    "cols = 5  # Number of columns for the subplots grid\n",
    "rows = (num_graphs + cols - 1) // cols  # Calculate rows needed\n",
    "\n",
    "fig, axes = plt.subplots(rows, cols, figsize=(25, 7 * rows))\n",
    "axes = axes.flatten() \n",
    "\n",
    "\n",
    "for i, g_dis_draw in enumerate(graphs):\n",
    "    ax = axes[i]  # Select the subplot axis\n",
    "    \n",
    "    # Compute node sizes based on \"local_minimum\" attribute\n",
    "    node_sizes = [(v * 300) + 100 for v in nx.get_node_attributes(g_dis_draw, \"local_minimum\").values()]\n",
    "    node_colours = [colormap(norm_colour(i)) for i in nx.get_node_attributes(g_dis_draw, \"EVk\").values()]\n",
    "    # Draw the graph with consistent layout and colors\n",
    "    nx.draw_networkx(\n",
    "        g_dis_draw,\n",
    "        pos=positions,  # Use positions based on PCA\n",
    "        ax=ax,\n",
    "        node_color=node_colours,  # Use precomputed gradient colors based on global EVk values\n",
    "        with_labels=False,\n",
    "        node_size=node_sizes,\n",
    "        alpha=1,\n",
    "        width=0.4\n",
    "    )\n",
    "    ax.set_xlim(x_min-1,x_max+1)\n",
    "    ax.set_ylim(y_min-1,y_max)\n",
    "    ax.set_title(f\"Graph {i}\")\n",
    "\n",
    "# Hide any unused subplots\n",
    "for ax in axes[num_graphs:]:\n",
    "    ax.axis(\"off\")\n",
    "\n",
    "plt.tight_layout()\n",
    "plt.show()\n"
   ]
  },
  {
   "cell_type": "markdown",
   "metadata": {},
   "source": [
    "## plot disconnectivity graph"
   ]
  },
  {
   "cell_type": "code",
   "execution_count": null,
   "metadata": {},
   "outputs": [],
   "source": [
    "EVk_disconnection_values = sorted(set(connected_matrix.values.flatten()))[1:]\n",
    "disconnectivity_graph = nx.Graph()\n",
    "for node_id in min_ids:\n",
    "    g.nodes[(0,0,0,1,0,0,0)][\"EVk\"]\n",
    "    node_state =  [x for x,y in g.nodes(data=True) if y[\"ELA_ID\"]==node_id][0]\n",
    "    disconnectivity_graph.add_node(node_id, activation_state = node_state,node_type = \"activation\",EVk = g.nodes[node_state][\"EVk\"] )\n",
    "\n",
    "min_ids_not_in_graph = min_ids.copy()\n",
    "for i in EVk_disconnection_values:\n",
    "    disconnectivity_graph.add_node(f\"{round(i,4)}\", activation_state = None,node_type = \"connection\",EVk = i )\n",
    "\n",
    "for node_a in min_ids:\n",
    "    connect_these = sorted(set(connected_matrix[node_a]),reverse=True)\n",
    "    self_connection = connect_these.pop()\n",
    "    lowest = connect_these.pop()\n",
    "    disconnectivity_graph.add_edge(f\"{round(lowest,4)}\",node_a)\n",
    "    while connect_these:\n",
    "        new_lowest = connect_these.pop()\n",
    "        disconnectivity_graph.add_edge(f\"{round(lowest,4)}\",f\"{round(new_lowest,4)}\")\n",
    "        lowest=new_lowest\n",
    "\n",
    "\n",
    "fig = plt.figure(1, figsize=(10, 7))\n",
    "spring_positions = nx.spring_layout(disconnectivity_graph, seed=42)  # Generate layout for x-axis\n",
    "dis_positions = {node: (spring_positions[node][0], attrs[\"EVk\"]) \n",
    "             for node, attrs in disconnectivity_graph.nodes(data=True)}\n",
    "\n",
    "color_map = {'activation': 'lightblue', 'connection': 'lightgreen'}\n",
    "nodes_colour  =  [color_map[n] for n in list(nx.get_node_attributes(disconnectivity_graph, \"node_type\").values())]\n",
    "\n",
    "nx.draw_networkx(disconnectivity_graph,with_labels=True,node_color= nodes_colour,pos=dis_positions,node_size =1000,edge_color = \"gray\")\n"
   ]
  },
  {
   "cell_type": "markdown",
   "metadata": {},
   "source": [
    "# Classification of nodes to basins"
   ]
  },
  {
   "cell_type": "markdown",
   "metadata": {},
   "source": [
    "## remove upward edges"
   ]
  },
  {
   "cell_type": "code",
   "execution_count": null,
   "metadata": {},
   "outputs": [],
   "source": [
    "g_c = g.copy()\n",
    "g_c = g_c.to_directed()\n",
    "copy_of_edges = list(g_c.edges())\n",
    "for edge in copy_of_edges:\n",
    "    if g_c.nodes()[edge[0]][\"EVk\"]<=g_c.nodes()[edge[1]][\"EVk\"]:\n",
    "        g_c.remove_edge(edge[0],edge[1])\n",
    "    node"
   ]
  },
  {
   "cell_type": "markdown",
   "metadata": {},
   "source": [
    "### plot only down edges"
   ]
  },
  {
   "cell_type": "code",
   "execution_count": null,
   "metadata": {},
   "outputs": [],
   "source": [
    "plot_g = g_c\n",
    "fig = plt.figure(1, figsize=(10, 7))\n",
    "edge_max_EVk = [max([plot_g.nodes[i[0]][\"EVk\"],plot_g.nodes[i[1]][\"EVk\"]]) for i in plot_g.edges()]\n",
    "edge_colours = [colormap(norm_colour(i)) for i in edge_max_EVk]\n",
    "node_sizes = [i*300+200 for i in nx.get_node_attributes(plot_g, \"local_minimum\").values()]\n",
    "node_colours = [colormap(norm_colour(i)) for i in nx.get_node_attributes(plot_g, \"EVk\").values()]\n",
    "\n",
    "nx.draw_networkx(plot_g,node_color=node_colours,with_labels=False,node_size = node_sizes,alpha = 0.9,width = 0.4,pos=positions)"
   ]
  },
  {
   "cell_type": "code",
   "execution_count": null,
   "metadata": {},
   "outputs": [],
   "source": [
    "g_c2 = g_c.copy()\n",
    "for node in g_c2.nodes:\n",
    "    if g_c2.nodes()[node][\"local_minimum\"] == False:\n",
    "        n_EVks = dict()\n",
    "        for n_node in g_c2.neighbors(node):\n",
    "            # print(g_c2.nodes()[n_node][\"EVk\"])\n",
    "            n_EVks[g_c2.nodes()[n_node][\"EVk\"]] = node\n",
    "        min_n_EVk = min(n_EVks.keys())\n",
    "        # print(\"Keep only\", min_n_EVk)\n",
    "        neigh_list = [i for i in g_c2.neighbors(node)]\n",
    "        for n_node in neigh_list:\n",
    "            if g_c2.nodes()[n_node][\"EVk\"]!=min_n_EVk:\n",
    "                g_c2.remove_edge(node,n_node)\n"
   ]
  },
  {
   "cell_type": "markdown",
   "metadata": {},
   "source": [
    "## keep only lowest edge"
   ]
  },
  {
   "cell_type": "code",
   "execution_count": null,
   "metadata": {},
   "outputs": [],
   "source": [
    "# basin as attribute\n",
    "g_c2_b = g_c2.copy()\n",
    "nx.set_node_attributes(g_c2_b,\"none\",name=\"basin\")\n",
    "def get_basin(node):\n",
    "    if g_c2_b.nodes[node][\"local_minimum\"]==True:\n",
    "        g_c2_b.nodes[node][\"basin\"]=node\n",
    "        return node\n",
    "    else:\n",
    "        basin = get_basin([i for i in g_c2_b.neighbors(node)][0])\n",
    "        g_c2_b.nodes[node][\"basin\"]=basin\n",
    "        return basin \n",
    "\n",
    "for node in g_c2_b.nodes():\n",
    "    get_basin(node)\n",
    "\n",
    "#adjust position by basin\n",
    "basin_pos_adjust = {j:x*30 for x,j in enumerate(set([g_c2_b.nodes[i][\"basin\"] for i in g_c2_b.nodes]))}\n",
    "positions2 = positions.copy()\n",
    "for i in g_c2:\n",
    "    basin_of_i = g_c2_b.nodes[i][\"basin\"]\n",
    "    positions2[i] = (positions2[i][0]+basin_pos_adjust[basin_of_i],positions2[i][1])\n"
   ]
  },
  {
   "cell_type": "markdown",
   "metadata": {},
   "source": [
    "### plot by basin"
   ]
  },
  {
   "cell_type": "code",
   "execution_count": null,
   "metadata": {},
   "outputs": [],
   "source": [
    "plot_g = g_c2_b\n",
    "fig = plt.figure(1, figsize=(20, 7))\n",
    "nx.draw_networkx(plot_g,node_color=node_colours,with_labels=False,node_size = node_sizes,alpha = 0.9,width = 0.4,pos=positions2)"
   ]
  },
  {
   "cell_type": "markdown",
   "metadata": {},
   "source": [
    "## Active Regions in each basin"
   ]
  },
  {
   "cell_type": "code",
   "execution_count": null,
   "metadata": {},
   "outputs": [],
   "source": [
    "\n",
    "# Set up the main graph and categories\n",
    "plot_g = g_c2_b\n",
    "brain_region = 5  # The index of the attribute indicating the brain region\n",
    "\n",
    "# Get the unique brain region categories\n",
    "unique_categories = [i for i in range(7)]\n",
    "color_palette = cm.get_cmap(\"Set1\", 2)\n",
    "category_to_color = {cat: color_palette(i) for i, cat in enumerate(unique_categories)}\n",
    "\n",
    "# Set up subplots\n",
    "num_categories = len(unique_categories)\n",
    "cols = 1  # Number of columns in the subplot grid\n",
    "rows = (num_categories + cols - 1) // cols  # Calculate rows needed\n",
    "\n",
    "fig, axes = plt.subplots(rows, cols, figsize=(25, 3 * rows))\n",
    "axes = axes.flatten()\n",
    "\n",
    "# Iterate over unique brain regions and create subplots\n",
    "for idx, category in enumerate(unique_categories):\n",
    "    ax = axes[idx]\n",
    "\n",
    "    region_or_not = set([node[category] for node, attrs in plot_g.nodes(data=True)])\n",
    "\n",
    "    node_colors = [category_to_color[node[category]] for node in plot_g.nodes]\n",
    "\n",
    "    node_sizes = [(v * 250) + 100 for v in nx.get_node_attributes(plot_g, \"local_minimum\").values()]\n",
    "    edge_colors = [category_to_color[edge[0][category]]  for edge in plot_g.edges]  # Use the source node color\n",
    "    min_nodes_names = [i for i in g_c2_b.nodes if g_c2_b.nodes[i][\"local_minimum\"]==True]\n",
    "    pos_min_dict = {i: (1 + x % 3, (x >= 3) + 1) for x, i in enumerate(min_nodes_names)}\n",
    "    nx.draw_networkx(plot_g,ax=ax,node_color=node_colors, with_labels=False,node_size = node_sizes,alpha = 0.9,width = 0.4,pos= positions2,edge_color= edge_colors)\n",
    "    ax.set_title(f\"Brain Region {category}\")\n",
    "\n",
    "# Hide any unused subplots\n",
    "for ax in axes[num_categories:]:\n",
    "    ax.axis(\"off\")\n",
    "\n",
    "plt.tight_layout()\n",
    "plt.show()\n"
   ]
  },
  {
   "cell_type": "code",
   "execution_count": null,
   "metadata": {},
   "outputs": [],
   "source": [
    "plot_g = g_c2_b\n",
    "regions = range(7)\n",
    "region_activation = pd.DataFrame(data = 0, index = min_nodes_names, columns= regions,dtype=float)\n",
    "for i in regions:\n",
    "    for basin in min_nodes_names:\n",
    "        relevant = [node[i] for node in plot_g.nodes if plot_g.nodes[node][\"basin\"] == basin ]\n",
    "        region_activation[i][basin] = sum(relevant)/len(relevant)"
   ]
  },
  {
   "cell_type": "code",
   "execution_count": null,
   "metadata": {},
   "outputs": [],
   "source": [
    "fig, ax = plt.subplots()\n",
    "sns.heatmap(region_activation, annot=True,cmap=\"Blues\", cbar_kws={'label': 'Time Active'});\n",
    "ax.set_xlabel(\"Regions\")\n",
    "ax.set_ylabel(\"Basins\")\n",
    "#region percentage time active"
   ]
  },
  {
   "cell_type": "markdown",
   "metadata": {},
   "source": [
    "# Random walk"
   ]
  },
  {
   "cell_type": "markdown",
   "metadata": {},
   "source": [
    "## Simulation"
   ]
  },
  {
   "cell_type": "code",
   "execution_count": null,
   "metadata": {},
   "outputs": [],
   "source": [
    "\n",
    "# graph with all edges\n",
    "rw_g = g.copy() #g_c2_b has basin data for lookup, but we want to random walk on the actual graph (no edges removed)\n",
    "rw_g.nodes(data=True)\n",
    "#choose random neighbour, then move to there with probabiliry min[e^(ei-ej)]\n",
    "current_node = random.choice(list(rw_g.nodes))\n",
    "# set random seed\n",
    "path = []\n",
    "path_basins= []\n",
    "# choose a random start node\n",
    "while len(path)<100000:\n",
    "    chosen_neighbour = random.choice([n for n in rw_g.neighbors(current_node)])\n",
    "    current_node_EVk = rw_g.nodes[current_node][\"EVk\"]\n",
    "    neighbour_node_EVk = rw_g.nodes[chosen_neighbour][\"EVk\"]\n",
    "    chance = min (1,pow(math.e,current_node_EVk-neighbour_node_EVk))\n",
    "    prob = random.uniform(0, 1)\n",
    "    if prob<chance:\n",
    "        current_node = chosen_neighbour\n",
    "        path.append(chosen_neighbour)\n",
    "        path_basins.append(g_c2_b.nodes[chosen_neighbour][\"basin\"])\n"
   ]
  },
  {
   "cell_type": "code",
   "execution_count": null,
   "metadata": {},
   "outputs": [],
   "source": [
    "[i for i in g_c2_b.nodes if g_c2_b.nodes[i][\"local_minimum\"]==True]"
   ]
  },
  {
   "cell_type": "code",
   "execution_count": null,
   "metadata": {},
   "outputs": [],
   "source": [
    "# replaced_basins"
   ]
  },
  {
   "cell_type": "code",
   "execution_count": null,
   "metadata": {},
   "outputs": [],
   "source": [
    "\n",
    "easier_names = dict()\n",
    "letters = [\"a\", \"b\", \"c\", \"d\",\"e\",\"f\"]\n",
    "easier_names = {element: letters[i % len(letters)] for i, element in enumerate(set(path_basins[100:]))}\n",
    "\n",
    "# Replace occurrences in the sliced list\n",
    "replaced_basins = [easier_names[item] for item in path_basins[100:]]\n",
    "# use abcd instead, easier\n",
    "# group the occurences for easier analyisis\n",
    "last_basin= \"Start\"\n",
    "current_counter = 0\n",
    "basins_grouped=[]\n",
    "for i in replaced_basins:\n",
    "    current_basin = i\n",
    "    current_counter+=1\n",
    "    if last_basin != current_basin:\n",
    "        basins_grouped.append([last_basin,current_counter])\n",
    "        current_counter = 0\n",
    "    last_basin = current_basin\n",
    "basins_grouped.append([last_basin,current_counter+1])\n",
    "basins_grouped = basins_grouped[1:]\n",
    "#calculate dwelling time # how long in each state\n",
    "# calculate transition frequency from state to state\n",
    "print(basins_grouped)\n",
    "\n"
   ]
  },
  {
   "cell_type": "code",
   "execution_count": null,
   "metadata": {},
   "outputs": [],
   "source": [
    "states_grouped_transitions = {l:[] for l in letters}\n",
    "states_grouped_dwell = {l:[] for l in letters}\n",
    "\n",
    "last_state = None\n",
    "first = True\n",
    "for i in basins_grouped:\n",
    "    states_grouped_dwell[i[0]].append(i[1])\n",
    "    if not first:\n",
    "        states_grouped_transitions[last_state[0]].append(i[0])\n",
    "    first = False\n",
    "    last_state = i\n",
    "\n"
   ]
  },
  {
   "cell_type": "markdown",
   "metadata": {},
   "source": [
    "## Dwelling time "
   ]
  },
  {
   "cell_type": "code",
   "execution_count": null,
   "metadata": {},
   "outputs": [],
   "source": [
    "dwell_plot_dict = Counter(states_grouped_dwell[\"b\"])\n",
    "plt.bar(dwell_plot_dict.keys(),dwell_plot_dict.values())"
   ]
  },
  {
   "cell_type": "code",
   "execution_count": null,
   "metadata": {},
   "outputs": [],
   "source": [
    "for l in letters:\n",
    "    print(l,\"mean dwelling time\",np.mean(states_grouped_dwell[l]),\"variance of dwelling time\",np.var(states_grouped_dwell[l]))\n"
   ]
  },
  {
   "cell_type": "code",
   "execution_count": null,
   "metadata": {},
   "outputs": [],
   "source": [
    "plt.bar(letters, [np.mean(states_grouped_dwell[l])for l in letters])"
   ]
  },
  {
   "cell_type": "code",
   "execution_count": null,
   "metadata": {},
   "outputs": [],
   "source": [
    "for l in letters:\n",
    "    print(l,Counter(states_grouped_transitions[l]))\n",
    "#b and c most stable, refer back and align with 2 most stable from paper a and be are these the same??"
   ]
  },
  {
   "cell_type": "code",
   "execution_count": null,
   "metadata": {},
   "outputs": [],
   "source": [
    "transition_matrix = pd.DataFrame({l:Counter(states_grouped_transitions[l]) for l in letters},columns=letters,index=letters)\n",
    "transition_matrix_av = (transition_matrix+transition_matrix.T)/2\n",
    "transition_matrix_n = transition_matrix.div(transition_matrix.sum(axis=1), axis=0)#normalise\n",
    "\n",
    "sns.heatmap(transition_matrix_n, annot=True,cmap=\"Blues\");"
   ]
  },
  {
   "cell_type": "markdown",
   "metadata": {},
   "source": [
    "## ELA Transition Graph"
   ]
  },
  {
   "cell_type": "markdown",
   "metadata": {},
   "source": [
    "### Undirected"
   ]
  },
  {
   "cell_type": "code",
   "execution_count": null,
   "metadata": {},
   "outputs": [],
   "source": [
    "G_ST = nx.from_pandas_adjacency(transition_matrix_av)\n",
    "G_ST.remove_edges_from(nx.selfloop_edges(G_ST))"
   ]
  },
  {
   "cell_type": "code",
   "execution_count": null,
   "metadata": {},
   "outputs": [],
   "source": [
    "fig = plt.figure(figsize = (7,7))\n",
    "weights =  nx.get_edge_attributes(G_ST,'weight')\n",
    "edge_weights_GST = [weights[i]/200 for i in G_ST.edges]\n",
    "edge_c_GST = [(i/35)+0.5 for i in edge_weights_GST]\n",
    "#scale dwelling time to node area\n",
    "node_size_GST = [np.mean(states_grouped_dwell[i])**2*314 for i in G_ST.nodes]\n",
    "nx.draw_networkx(G_ST, edge_color= cm.Greys(edge_c_GST), width = edge_weights_GST, pos= nx.spring_layout(G_ST, seed=42), node_color = \"lightblue\", node_size = node_size_GST,connectionstyle =\"arc3,rad=0.08\"  )"
   ]
  },
  {
   "cell_type": "markdown",
   "metadata": {},
   "source": [
    "### Directed"
   ]
  },
  {
   "cell_type": "code",
   "execution_count": null,
   "metadata": {},
   "outputs": [],
   "source": [
    "G_ST_dir = nx.from_pandas_adjacency(transition_matrix_av,create_using=nx.DiGraph())\n",
    "G_ST_dir.remove_edges_from(nx.selfloop_edges(G_ST_dir))"
   ]
  },
  {
   "cell_type": "code",
   "execution_count": null,
   "metadata": {},
   "outputs": [],
   "source": [
    "fig = plt.figure(figsize = (7,7))\n",
    "weights =  nx.get_edge_attributes(G_ST_dir,'weight')\n",
    "edge_weights_GST = [weights[i]/400 if weights[i]>0 else 0 for i in G_ST_dir.edges ]\n",
    "edge_c_GST = [(i/18)+0.5 for i in edge_weights_GST]\n",
    "\n",
    "#scale dwelling time to node volume if sphere (more intuitive)\n",
    "node_size_GST = [(np.mean(states_grouped_dwell[i])**3)*314 for i in G_ST_dir.nodes]\n",
    "nx.draw_networkx(G_ST_dir, edge_color= cm.Greys(edge_c_GST), width = edge_weights_GST, pos= nx.spring_layout(G_ST_dir, seed=42,k =100), node_color = \"lightblue\", node_size = node_size_GST,connectionstyle =\"arc3,rad=0.08\"  )"
   ]
  }
 ],
 "metadata": {
  "kernelspec": {
   "display_name": "Python 3",
   "language": "python",
   "name": "python3"
  },
  "language_info": {
   "codemirror_mode": {
    "name": "ipython",
    "version": 3
   },
   "file_extension": ".py",
   "mimetype": "text/x-python",
   "name": "python",
   "nbconvert_exporter": "python",
   "pygments_lexer": "ipython3",
   "version": "3.8.10"
  }
 },
 "nbformat": 4,
 "nbformat_minor": 2
}
